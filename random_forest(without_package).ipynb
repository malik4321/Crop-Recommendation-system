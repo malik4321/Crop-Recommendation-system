{
 "cells": [
  {
   "cell_type": "code",
   "execution_count": 1,
   "id": "87b5b520-569f-4515-b41a-ee595a9f76e3",
   "metadata": {},
   "outputs": [],
   "source": [
    "import numpy as np\n",
    "import pandas as pd\n"
   ]
  },
  {
   "cell_type": "code",
   "execution_count": 3,
   "id": "e66c7a08-3fff-4c56-8069-c4ff4a32ce18",
   "metadata": {},
   "outputs": [
    {
     "data": {
      "text/html": [
       "<div>\n",
       "<style scoped>\n",
       "    .dataframe tbody tr th:only-of-type {\n",
       "        vertical-align: middle;\n",
       "    }\n",
       "\n",
       "    .dataframe tbody tr th {\n",
       "        vertical-align: top;\n",
       "    }\n",
       "\n",
       "    .dataframe thead th {\n",
       "        text-align: right;\n",
       "    }\n",
       "</style>\n",
       "<table border=\"1\" class=\"dataframe\">\n",
       "  <thead>\n",
       "    <tr style=\"text-align: right;\">\n",
       "      <th></th>\n",
       "      <th>N</th>\n",
       "      <th>P</th>\n",
       "      <th>K</th>\n",
       "      <th>temperature</th>\n",
       "      <th>humidity</th>\n",
       "      <th>ph</th>\n",
       "      <th>rainfall</th>\n",
       "      <th>label</th>\n",
       "    </tr>\n",
       "  </thead>\n",
       "  <tbody>\n",
       "    <tr>\n",
       "      <th>0</th>\n",
       "      <td>90</td>\n",
       "      <td>42</td>\n",
       "      <td>43</td>\n",
       "      <td>20.879744</td>\n",
       "      <td>82.002744</td>\n",
       "      <td>6.502985</td>\n",
       "      <td>202.935536</td>\n",
       "      <td>rice</td>\n",
       "    </tr>\n",
       "    <tr>\n",
       "      <th>1</th>\n",
       "      <td>85</td>\n",
       "      <td>58</td>\n",
       "      <td>41</td>\n",
       "      <td>21.770462</td>\n",
       "      <td>80.319644</td>\n",
       "      <td>7.038096</td>\n",
       "      <td>226.655537</td>\n",
       "      <td>rice</td>\n",
       "    </tr>\n",
       "    <tr>\n",
       "      <th>2</th>\n",
       "      <td>60</td>\n",
       "      <td>55</td>\n",
       "      <td>44</td>\n",
       "      <td>23.004459</td>\n",
       "      <td>82.320763</td>\n",
       "      <td>7.840207</td>\n",
       "      <td>263.964248</td>\n",
       "      <td>rice</td>\n",
       "    </tr>\n",
       "    <tr>\n",
       "      <th>3</th>\n",
       "      <td>74</td>\n",
       "      <td>35</td>\n",
       "      <td>40</td>\n",
       "      <td>26.491096</td>\n",
       "      <td>80.158363</td>\n",
       "      <td>6.980401</td>\n",
       "      <td>242.864034</td>\n",
       "      <td>rice</td>\n",
       "    </tr>\n",
       "    <tr>\n",
       "      <th>4</th>\n",
       "      <td>78</td>\n",
       "      <td>42</td>\n",
       "      <td>42</td>\n",
       "      <td>20.130175</td>\n",
       "      <td>81.604873</td>\n",
       "      <td>7.628473</td>\n",
       "      <td>262.717340</td>\n",
       "      <td>rice</td>\n",
       "    </tr>\n",
       "  </tbody>\n",
       "</table>\n",
       "</div>"
      ],
      "text/plain": [
       "    N   P   K  temperature   humidity        ph    rainfall label\n",
       "0  90  42  43    20.879744  82.002744  6.502985  202.935536  rice\n",
       "1  85  58  41    21.770462  80.319644  7.038096  226.655537  rice\n",
       "2  60  55  44    23.004459  82.320763  7.840207  263.964248  rice\n",
       "3  74  35  40    26.491096  80.158363  6.980401  242.864034  rice\n",
       "4  78  42  42    20.130175  81.604873  7.628473  262.717340  rice"
      ]
     },
     "execution_count": 3,
     "metadata": {},
     "output_type": "execute_result"
    }
   ],
   "source": [
    "crop_data = pd.read_csv('crop_recommendation.csv')\n",
    "crop_data.head()"
   ]
  },
  {
   "cell_type": "code",
   "execution_count": 6,
   "id": "634109c4-d6de-4834-b577-aa36a5b12564",
   "metadata": {},
   "outputs": [
    {
     "name": "stdout",
     "output_type": "stream",
     "text": [
      "<class 'pandas.core.frame.DataFrame'>\n",
      "RangeIndex: 2200 entries, 0 to 2199\n",
      "Data columns (total 8 columns):\n",
      " #   Column       Non-Null Count  Dtype  \n",
      "---  ------       --------------  -----  \n",
      " 0   N            2200 non-null   int64  \n",
      " 1   P            2200 non-null   int64  \n",
      " 2   K            2200 non-null   int64  \n",
      " 3   temperature  2200 non-null   float64\n",
      " 4   humidity     2200 non-null   float64\n",
      " 5   ph           2200 non-null   float64\n",
      " 6   rainfall     2200 non-null   float64\n",
      " 7   label        2200 non-null   object \n",
      "dtypes: float64(4), int64(3), object(1)\n",
      "memory usage: 137.6+ KB\n"
     ]
    }
   ],
   "source": [
    "crop_data.info()"
   ]
  },
  {
   "cell_type": "code",
   "execution_count": 5,
   "id": "a401fe1e-5af0-4444-8ba9-923d21e8d0fb",
   "metadata": {},
   "outputs": [
    {
     "data": {
      "text/plain": [
       "N              0\n",
       "P              0\n",
       "K              0\n",
       "temperature    0\n",
       "humidity       0\n",
       "ph             0\n",
       "rainfall       0\n",
       "label          0\n",
       "dtype: int64"
      ]
     },
     "execution_count": 5,
     "metadata": {},
     "output_type": "execute_result"
    }
   ],
   "source": [
    "crop_data.isnull().sum()"
   ]
  },
  {
   "cell_type": "code",
   "execution_count": 7,
   "id": "ebc76cac-95d9-46d5-a638-511e6cfca495",
   "metadata": {},
   "outputs": [],
   "source": [
    "crop_datax = crop_data.drop('label', axis = 1)\n",
    "y = crop_data['label']"
   ]
  },
  {
   "cell_type": "code",
   "execution_count": 8,
   "id": "f5f188bd-31bf-4b0e-bf7a-6411a5ea22d1",
   "metadata": {},
   "outputs": [
    {
     "data": {
      "text/plain": [
       "0         rice\n",
       "1         rice\n",
       "2         rice\n",
       "3         rice\n",
       "4         rice\n",
       "         ...  \n",
       "2195    coffee\n",
       "2196    coffee\n",
       "2197    coffee\n",
       "2198    coffee\n",
       "2199    coffee\n",
       "Name: label, Length: 2200, dtype: object"
      ]
     },
     "execution_count": 8,
     "metadata": {},
     "output_type": "execute_result"
    }
   ],
   "source": [
    "y\n"
   ]
  },
  {
   "cell_type": "code",
   "execution_count": 52,
   "id": "bf5fbe82-e6d1-4249-a030-33257d395cba",
   "metadata": {},
   "outputs": [],
   "source": [
    "from sklearn.model_selection import train_test_split\n",
    "from sklearn.metrics import accuracy_score"
   ]
  },
  {
   "cell_type": "code",
   "execution_count": 53,
   "id": "04650445-b017-4c75-967d-cd318be75607",
   "metadata": {},
   "outputs": [],
   "source": [
    "# Encoding the 'label' column to integers\n",
    "label_mapping = {label: index for index, label in enumerate(crop_data['label'].unique())}\n",
    "inverse_label_mapping = {index: label for label, index in label_mapping.items()}\n"
   ]
  },
  {
   "cell_type": "code",
   "execution_count": 54,
   "id": "25972323-f8a4-4cd4-a8ed-a77a082e94fa",
   "metadata": {},
   "outputs": [],
   "source": [
    "# Convert labels to integer indices\n",
    "y = crop_data['label'].map(label_mapping).values"
   ]
  },
  {
   "cell_type": "code",
   "execution_count": 55,
   "id": "660108be-cee9-4662-a2b3-faeb60fdc5ae",
   "metadata": {},
   "outputs": [],
   "source": [
    "# Features (X) - Assuming all columns except 'label' are features\n",
    "X = crop_data.drop('label', axis=1).values\n"
   ]
  },
  {
   "cell_type": "code",
   "execution_count": 56,
   "id": "bd8ee28b-38c6-40dc-b90e-e0d936753e2c",
   "metadata": {},
   "outputs": [],
   "source": [
    "# Function to perform bootstrap sampling\n",
    "def bootstrap_sample(X, y):\n",
    "    indices = np.random.choice(len(X), size=len(X), replace=True)\n",
    "    return X[indices], y[indices]\n",
    "\n"
   ]
  },
  {
   "cell_type": "code",
   "execution_count": 57,
   "id": "bfafc365-5eb9-4738-aa4d-c0e904220446",
   "metadata": {},
   "outputs": [],
   "source": [
    "# Function to split data for decision tree\n",
    "def split_data(X, y, feature_index, threshold):\n",
    "    left_mask = X[:, feature_index] < threshold\n",
    "    right_mask = ~left_mask\n",
    "    return X[left_mask], X[right_mask], y[left_mask], y[right_mask]\n"
   ]
  },
  {
   "cell_type": "code",
   "execution_count": 58,
   "id": "f848693c-25b1-49a8-814a-55659dc8bd03",
   "metadata": {},
   "outputs": [],
   "source": [
    "# Decision Tree Node definition\n",
    "class TreeNode:\n",
    "    def __init__(self, predicted_class=None, feature_index=None, threshold=None, left=None, right=None):\n",
    "        self.predicted_class = predicted_class\n",
    "        self.feature_index = feature_index\n",
    "        self.threshold = threshold\n",
    "        self.left = left\n",
    "        self.right = right\n",
    "\n"
   ]
  },
  {
   "cell_type": "code",
   "execution_count": 59,
   "id": "85dd37bd-b9ee-41b2-8236-40d06ce46f3f",
   "metadata": {},
   "outputs": [],
   "source": [
    "# Function to calculate Gini impurity\n",
    "def calculate_gini(y):\n",
    "    if len(y) == 0:\n",
    "        return 0\n",
    "    y = y.astype(int)\n",
    "    counts = np.bincount(y)\n",
    "    probabilities = counts / len(y)\n",
    "    gini = 1 - np.sum(probabilities ** 2)\n",
    "    return gini"
   ]
  },
  {
   "cell_type": "code",
   "execution_count": 60,
   "id": "9653dcfc-c268-4a8d-9494-d6fe6390e100",
   "metadata": {},
   "outputs": [],
   "source": [
    "# Decision Tree construction\n",
    "def build_tree(X, y, max_depth):\n",
    "    if max_depth <= 0 or len(np.unique(y)) == 1:\n",
    "        return TreeNode(predicted_class=np.bincount(y).argmax())\n",
    "\n",
    "    num_samples, num_features = X.shape\n",
    "    best_gini = float('inf')\n",
    "    best_criteria = None\n",
    "\n",
    "    for feature_index in range(num_features):\n",
    "        for threshold in np.unique(X[:, feature_index]):\n",
    "            X_left, X_right, y_left, y_right = split_data(X, y, feature_index, threshold)\n",
    "            if len(y_left) > 0 and len(y_right) > 0:\n",
    "                gini = (len(y_left) / len(y)) * calculate_gini(y_left) + (len(y_right) / len(y)) * calculate_gini(y_right)\n",
    "                if gini < best_gini:\n",
    "                    best_gini = gini\n",
    "                    best_criteria = (feature_index, threshold)\n",
    "                    best_sets = (X_left, X_right, y_left, y_right)\n",
    "\n",
    "    if best_criteria is None:\n",
    "        return TreeNode(predicted_class=np.bincount(y).argmax())\n",
    "\n",
    "    X_left, X_right, y_left, y_right = best_sets\n",
    "    left_tree = build_tree(X_left, y_left, max_depth - 1)\n",
    "    right_tree = build_tree(X_right, y_right, max_depth - 1)\n",
    "    return TreeNode(predicted_class=None, feature_index=best_criteria[0], threshold=best_criteria[1], left=left_tree, right=right_tree)\n"
   ]
  },
  {
   "cell_type": "code",
   "execution_count": 61,
   "id": "29f49dce-85af-4ffb-baf8-9feca02d9fba",
   "metadata": {},
   "outputs": [],
   "source": [
    "# Random Forest implementation\n",
    "class RandomForest:\n",
    "    def __init__(self, n_trees=100, max_depth=None):\n",
    "        self.n_trees = n_trees\n",
    "        self.max_depth = max_depth\n",
    "        self.trees = []\n",
    "\n",
    "    def fit(self, X, y):\n",
    "        for _ in range(self.n_trees):\n",
    "            X_sample, y_sample = bootstrap_sample(X, y)\n",
    "            tree = build_tree(X_sample, y_sample, max_depth=self.max_depth)\n",
    "            self.trees.append(tree)\n",
    "\n",
    "    def predict(self, X):\n",
    "        predictions = np.zeros((len(X), len(self.trees)))\n",
    "        for i, tree in enumerate(self.trees):\n",
    "            predictions[:, i] = [self._predict_tree(x, tree) for x in X]\n",
    "        return np.round(np.mean(predictions, axis=1)).astype(int)\n",
    "\n",
    "    def _predict_tree(self, x, tree):\n",
    "        if tree.predicted_class is not None:\n",
    "            return tree.predicted_class\n",
    "        else:\n",
    "            feature_index = tree.feature_index\n",
    "            if feature_index >= len(x):\n",
    "                raise IndexError(f\"Tree tried to split on feature index {feature_index}, which is out of bounds.\")\n",
    "            \n",
    "            if x[feature_index] < tree.threshold:\n",
    "                return self._predict_tree(x, tree.left)\n",
    "            else:\n",
    "                return self._predict_tree(x, tree.right)"
   ]
  },
  {
   "cell_type": "code",
   "execution_count": 62,
   "id": "dd36709f-1003-4eb8-89a6-2112e32ed93e",
   "metadata": {},
   "outputs": [],
   "source": [
    "# Split the data into training and testing sets\n",
    "X_train, X_test, y_train, y_test = train_test_split(X, y, test_size=0.2, random_state=42)"
   ]
  },
  {
   "cell_type": "code",
   "execution_count": 63,
   "id": "fa22be00-cb6d-4fb6-931f-b605e2827d4b",
   "metadata": {},
   "outputs": [],
   "source": [
    "# Initialize the Random Forest with specified number of trees and max depth\n",
    "random_forest = RandomForest(n_trees=10, max_depth=3)\n"
   ]
  },
  {
   "cell_type": "code",
   "execution_count": 64,
   "id": "0ad92408-d0ac-4952-b198-944de3066be7",
   "metadata": {},
   "outputs": [],
   "source": [
    "# Fit the model on the training data\n",
    "random_forest.fit(X_train, y_train)"
   ]
  },
  {
   "cell_type": "code",
   "execution_count": 65,
   "id": "81acc9d3-16c5-4a2f-a5b2-8bee78f13108",
   "metadata": {},
   "outputs": [],
   "source": [
    "# Predict the labels for the test set\n",
    "y_pred = random_forest.predict(X_test)"
   ]
  },
  {
   "cell_type": "code",
   "execution_count": 66,
   "id": "396149c3-1c40-45a8-86f6-565162bcd27b",
   "metadata": {},
   "outputs": [
    {
     "name": "stdout",
     "output_type": "stream",
     "text": [
      "Accuracy: 0.15\n"
     ]
    }
   ],
   "source": [
    "# Calculate the accuracy\n",
    "accuracy = accuracy_score(y_test, y_pred)\n",
    "print(\"Accuracy:\", accuracy)\n"
   ]
  },
  {
   "cell_type": "code",
   "execution_count": 67,
   "id": "77a0366f-6229-4bd6-918c-06add9799915",
   "metadata": {},
   "outputs": [],
   "source": [
    "# Example usage\n",
    "random_forest = RandomForest(n_trees=10, max_depth=3)\n",
    "random_forest.fit(X, y)"
   ]
  },
  {
   "cell_type": "code",
   "execution_count": 68,
   "id": "d34942b5-b108-4aa7-b3a9-bc56d8109c15",
   "metadata": {},
   "outputs": [],
   "source": [
    "# Example prediction (replace with actual features)\n",
    "new_data_point = np.array([[90, 40, 60, 20, 80, 7.0, 150]]) \n",
    "arr = [[90,42,43,20.879744,82.002744,6.502985,202.935536]] # Ensure this has the same number of features\n",
    "predicted_class_index = random_forest.predict(new_data_point)"
   ]
  },
  {
   "cell_type": "code",
   "execution_count": 69,
   "id": "c4695c4a-a663-4424-82a7-59450cdb0260",
   "metadata": {},
   "outputs": [
    {
     "name": "stdout",
     "output_type": "stream",
     "text": [
      "Prediction: grapes\n"
     ]
    }
   ],
   "source": [
    "# Convert the predicted class index back to the original label\n",
    "predicted_label = inverse_label_mapping[predicted_class_index[0]]\n",
    "print(\"Prediction:\", predicted_label )"
   ]
  },
  {
   "cell_type": "code",
   "execution_count": null,
   "id": "db94663f-282c-458a-928c-4464337b1d84",
   "metadata": {},
   "outputs": [],
   "source": []
  }
 ],
 "metadata": {
  "kernelspec": {
   "display_name": "Python 3 (ipykernel)",
   "language": "python",
   "name": "python3"
  },
  "language_info": {
   "codemirror_mode": {
    "name": "ipython",
    "version": 3
   },
   "file_extension": ".py",
   "mimetype": "text/x-python",
   "name": "python",
   "nbconvert_exporter": "python",
   "pygments_lexer": "ipython3",
   "version": "3.11.1"
  }
 },
 "nbformat": 4,
 "nbformat_minor": 5
}
