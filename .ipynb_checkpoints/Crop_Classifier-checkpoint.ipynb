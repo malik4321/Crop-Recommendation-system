{
 "cells": [
  {
   "cell_type": "code",
   "execution_count": 56,
   "id": "31e9c339-cc74-4f66-8763-b55a23514a82",
   "metadata": {},
   "outputs": [
    {
     "name": "stdout",
     "output_type": "stream",
     "text": [
      "Requirement already satisfied: seaborn in c:\\python37\\lib\\site-packages (0.13.2)\n",
      "Requirement already satisfied: numpy!=1.24.0,>=1.20 in c:\\python37\\lib\\site-packages (from seaborn) (1.24.3)\n",
      "Requirement already satisfied: pandas>=1.2 in c:\\python37\\lib\\site-packages (from seaborn) (2.0.2)\n",
      "Requirement already satisfied: matplotlib!=3.6.1,>=3.4 in c:\\python37\\lib\\site-packages (from seaborn) (3.7.1)\n",
      "Requirement already satisfied: contourpy>=1.0.1 in c:\\python37\\lib\\site-packages (from matplotlib!=3.6.1,>=3.4->seaborn) (1.1.0)\n",
      "Requirement already satisfied: cycler>=0.10 in c:\\python37\\lib\\site-packages (from matplotlib!=3.6.1,>=3.4->seaborn) (0.11.0)\n",
      "Requirement already satisfied: fonttools>=4.22.0 in c:\\python37\\lib\\site-packages (from matplotlib!=3.6.1,>=3.4->seaborn) (4.40.0)\n",
      "Requirement already satisfied: kiwisolver>=1.0.1 in c:\\python37\\lib\\site-packages (from matplotlib!=3.6.1,>=3.4->seaborn) (1.4.4)\n",
      "Requirement already satisfied: packaging>=20.0 in c:\\python37\\lib\\site-packages (from matplotlib!=3.6.1,>=3.4->seaborn) (23.1)\n",
      "Requirement already satisfied: pillow>=6.2.0 in c:\\python37\\lib\\site-packages (from matplotlib!=3.6.1,>=3.4->seaborn) (9.5.0)\n",
      "Requirement already satisfied: pyparsing>=2.3.1 in c:\\python37\\lib\\site-packages (from matplotlib!=3.6.1,>=3.4->seaborn) (3.0.9)\n",
      "Requirement already satisfied: python-dateutil>=2.7 in c:\\python37\\lib\\site-packages (from matplotlib!=3.6.1,>=3.4->seaborn) (2.8.2)\n",
      "Requirement already satisfied: pytz>=2020.1 in c:\\python37\\lib\\site-packages (from pandas>=1.2->seaborn) (2023.3)\n",
      "Requirement already satisfied: tzdata>=2022.1 in c:\\python37\\lib\\site-packages (from pandas>=1.2->seaborn) (2023.3)\n",
      "Requirement already satisfied: six>=1.5 in c:\\python37\\lib\\site-packages (from python-dateutil>=2.7->matplotlib!=3.6.1,>=3.4->seaborn) (1.16.0)\n"
     ]
    },
    {
     "name": "stderr",
     "output_type": "stream",
     "text": [
      "\n",
      "[notice] A new release of pip is available: 23.2.1 -> 24.1.1\n",
      "[notice] To update, run: python.exe -m pip install --upgrade pip\n"
     ]
    },
    {
     "name": "stdout",
     "output_type": "stream",
     "text": [
      "Requirement already satisfied: scikit-learn in c:\\python37\\lib\\site-packages (1.5.0)\n",
      "Requirement already satisfied: numpy>=1.19.5 in c:\\python37\\lib\\site-packages (from scikit-learn) (1.24.3)\n",
      "Requirement already satisfied: scipy>=1.6.0 in c:\\python37\\lib\\site-packages (from scikit-learn) (1.10.1)\n",
      "Requirement already satisfied: joblib>=1.2.0 in c:\\python37\\lib\\site-packages (from scikit-learn) (1.4.2)\n",
      "Requirement already satisfied: threadpoolctl>=3.1.0 in c:\\python37\\lib\\site-packages (from scikit-learn) (3.5.0)\n"
     ]
    },
    {
     "name": "stderr",
     "output_type": "stream",
     "text": [
      "\n",
      "[notice] A new release of pip is available: 23.2.1 -> 24.1.1\n",
      "[notice] To update, run: python.exe -m pip install --upgrade pip\n"
     ]
    }
   ],
   "source": [
    "import numpy as np\n",
    "import pandas as pd\n",
    "!pip install seaborn\n",
    "!pip install scikit-learn\n",
    "import seaborn as sns\n",
    "from sklearn.model_selection import train_test_split\n",
    "from sklearn.preprocessing import StandardScaler\n",
    "from sklearn.linear_model import LogisticRegression\n",
    "from sklearn.naive_bayes import GaussianNB\n",
    "from sklearn.svm import SVC\n",
    "from sklearn.neighbors import KNeighborsClassifier\n",
    "from sklearn.tree import DecisionTreeClassifier\n",
    "from sklearn.tree import ExtraTreeClassifier\n",
    "from sklearn.ensemble import RandomForestClassifier\n",
    "from sklearn.ensemble import BaggingClassifier\n",
    "from sklearn.ensemble import GradientBoostingClassifier\n",
    "from sklearn.ensemble import AdaBoostClassifier\n",
    "from sklearn.metrics import accuracy_score, precision_score, recall_score, f1_score\n",
    "from sklearn.model_selection import cross_val_score\n",
    "from sklearn.preprocessing import StandardScaler, MinMaxScaler\n",
    "import pickle\n",
    "\n"
   ]
  },
  {
   "cell_type": "code",
   "execution_count": null,
   "id": "0d8e2b35-0d43-4405-b9bc-7ea315947a2a",
   "metadata": {},
   "outputs": [],
   "source": []
  },
  {
   "cell_type": "markdown",
   "id": "9c4778aa-9bce-4479-a901-8cd3785e4d9d",
   "metadata": {},
   "source": [
    "# IMPORTING DATA\n"
   ]
  },
  {
   "cell_type": "code",
   "execution_count": 3,
   "id": "b4eb04ef-b27a-42af-a61f-1711256feafa",
   "metadata": {},
   "outputs": [
    {
     "data": {
      "text/html": [
       "<div>\n",
       "<style scoped>\n",
       "    .dataframe tbody tr th:only-of-type {\n",
       "        vertical-align: middle;\n",
       "    }\n",
       "\n",
       "    .dataframe tbody tr th {\n",
       "        vertical-align: top;\n",
       "    }\n",
       "\n",
       "    .dataframe thead th {\n",
       "        text-align: right;\n",
       "    }\n",
       "</style>\n",
       "<table border=\"1\" class=\"dataframe\">\n",
       "  <thead>\n",
       "    <tr style=\"text-align: right;\">\n",
       "      <th></th>\n",
       "      <th>N</th>\n",
       "      <th>P</th>\n",
       "      <th>K</th>\n",
       "      <th>temperature</th>\n",
       "      <th>humidity</th>\n",
       "      <th>ph</th>\n",
       "      <th>rainfall</th>\n",
       "      <th>label</th>\n",
       "    </tr>\n",
       "  </thead>\n",
       "  <tbody>\n",
       "    <tr>\n",
       "      <th>0</th>\n",
       "      <td>90</td>\n",
       "      <td>42</td>\n",
       "      <td>43</td>\n",
       "      <td>20.879744</td>\n",
       "      <td>82.002744</td>\n",
       "      <td>6.502985</td>\n",
       "      <td>202.935536</td>\n",
       "      <td>rice</td>\n",
       "    </tr>\n",
       "    <tr>\n",
       "      <th>1</th>\n",
       "      <td>85</td>\n",
       "      <td>58</td>\n",
       "      <td>41</td>\n",
       "      <td>21.770462</td>\n",
       "      <td>80.319644</td>\n",
       "      <td>7.038096</td>\n",
       "      <td>226.655537</td>\n",
       "      <td>rice</td>\n",
       "    </tr>\n",
       "    <tr>\n",
       "      <th>2</th>\n",
       "      <td>60</td>\n",
       "      <td>55</td>\n",
       "      <td>44</td>\n",
       "      <td>23.004459</td>\n",
       "      <td>82.320763</td>\n",
       "      <td>7.840207</td>\n",
       "      <td>263.964248</td>\n",
       "      <td>rice</td>\n",
       "    </tr>\n",
       "    <tr>\n",
       "      <th>3</th>\n",
       "      <td>74</td>\n",
       "      <td>35</td>\n",
       "      <td>40</td>\n",
       "      <td>26.491096</td>\n",
       "      <td>80.158363</td>\n",
       "      <td>6.980401</td>\n",
       "      <td>242.864034</td>\n",
       "      <td>rice</td>\n",
       "    </tr>\n",
       "    <tr>\n",
       "      <th>4</th>\n",
       "      <td>78</td>\n",
       "      <td>42</td>\n",
       "      <td>42</td>\n",
       "      <td>20.130175</td>\n",
       "      <td>81.604873</td>\n",
       "      <td>7.628473</td>\n",
       "      <td>262.717340</td>\n",
       "      <td>rice</td>\n",
       "    </tr>\n",
       "  </tbody>\n",
       "</table>\n",
       "</div>"
      ],
      "text/plain": [
       "    N   P   K  temperature   humidity        ph    rainfall label\n",
       "0  90  42  43    20.879744  82.002744  6.502985  202.935536  rice\n",
       "1  85  58  41    21.770462  80.319644  7.038096  226.655537  rice\n",
       "2  60  55  44    23.004459  82.320763  7.840207  263.964248  rice\n",
       "3  74  35  40    26.491096  80.158363  6.980401  242.864034  rice\n",
       "4  78  42  42    20.130175  81.604873  7.628473  262.717340  rice"
      ]
     },
     "execution_count": 3,
     "metadata": {},
     "output_type": "execute_result"
    }
   ],
   "source": [
    "crop = pd.read_csv(\"Crop_recommendation.csv\")\n",
    "crop.head()"
   ]
  },
  {
   "cell_type": "markdown",
   "id": "36a085a8-a13d-4bab-a820-3470a0da97e0",
   "metadata": {},
   "source": [
    "# Asq Six Question to yourself\n",
    "\n"
   ]
  },
  {
   "cell_type": "code",
   "execution_count": 4,
   "id": "74c2f292-39f4-4074-8c58-8177498761e6",
   "metadata": {},
   "outputs": [
    {
     "data": {
      "text/plain": [
       "(2200, 8)"
      ]
     },
     "execution_count": 4,
     "metadata": {},
     "output_type": "execute_result"
    }
   ],
   "source": [
    "crop.shape"
   ]
  },
  {
   "cell_type": "code",
   "execution_count": 5,
   "id": "ce39101f-5766-48e7-8c71-e1fb1852d338",
   "metadata": {},
   "outputs": [
    {
     "name": "stdout",
     "output_type": "stream",
     "text": [
      "<class 'pandas.core.frame.DataFrame'>\n",
      "RangeIndex: 2200 entries, 0 to 2199\n",
      "Data columns (total 8 columns):\n",
      " #   Column       Non-Null Count  Dtype  \n",
      "---  ------       --------------  -----  \n",
      " 0   N            2200 non-null   int64  \n",
      " 1   P            2200 non-null   int64  \n",
      " 2   K            2200 non-null   int64  \n",
      " 3   temperature  2200 non-null   float64\n",
      " 4   humidity     2200 non-null   float64\n",
      " 5   ph           2200 non-null   float64\n",
      " 6   rainfall     2200 non-null   float64\n",
      " 7   label        2200 non-null   object \n",
      "dtypes: float64(4), int64(3), object(1)\n",
      "memory usage: 137.6+ KB\n"
     ]
    }
   ],
   "source": [
    "crop.info()"
   ]
  },
  {
   "cell_type": "code",
   "execution_count": 6,
   "id": "6364b898-e0b6-4c9e-b70a-27871d2072ac",
   "metadata": {},
   "outputs": [
    {
     "data": {
      "text/plain": [
       "N              0\n",
       "P              0\n",
       "K              0\n",
       "temperature    0\n",
       "humidity       0\n",
       "ph             0\n",
       "rainfall       0\n",
       "label          0\n",
       "dtype: int64"
      ]
     },
     "execution_count": 6,
     "metadata": {},
     "output_type": "execute_result"
    }
   ],
   "source": [
    "crop.isnull().sum()"
   ]
  },
  {
   "cell_type": "code",
   "execution_count": 7,
   "id": "871bf818-e628-4b2c-b378-bc9485413037",
   "metadata": {},
   "outputs": [
    {
     "data": {
      "text/plain": [
       "0"
      ]
     },
     "execution_count": 7,
     "metadata": {},
     "output_type": "execute_result"
    }
   ],
   "source": [
    "crop.duplicated().sum()"
   ]
  },
  {
   "cell_type": "code",
   "execution_count": 8,
   "id": "459afab3-86dc-4cf9-8cff-15447f726bc0",
   "metadata": {},
   "outputs": [
    {
     "data": {
      "text/html": [
       "<div>\n",
       "<style scoped>\n",
       "    .dataframe tbody tr th:only-of-type {\n",
       "        vertical-align: middle;\n",
       "    }\n",
       "\n",
       "    .dataframe tbody tr th {\n",
       "        vertical-align: top;\n",
       "    }\n",
       "\n",
       "    .dataframe thead th {\n",
       "        text-align: right;\n",
       "    }\n",
       "</style>\n",
       "<table border=\"1\" class=\"dataframe\">\n",
       "  <thead>\n",
       "    <tr style=\"text-align: right;\">\n",
       "      <th></th>\n",
       "      <th>N</th>\n",
       "      <th>P</th>\n",
       "      <th>K</th>\n",
       "      <th>temperature</th>\n",
       "      <th>humidity</th>\n",
       "      <th>ph</th>\n",
       "      <th>rainfall</th>\n",
       "    </tr>\n",
       "  </thead>\n",
       "  <tbody>\n",
       "    <tr>\n",
       "      <th>count</th>\n",
       "      <td>2200.000000</td>\n",
       "      <td>2200.000000</td>\n",
       "      <td>2200.000000</td>\n",
       "      <td>2200.000000</td>\n",
       "      <td>2200.000000</td>\n",
       "      <td>2200.000000</td>\n",
       "      <td>2200.000000</td>\n",
       "    </tr>\n",
       "    <tr>\n",
       "      <th>mean</th>\n",
       "      <td>50.551818</td>\n",
       "      <td>53.362727</td>\n",
       "      <td>48.149091</td>\n",
       "      <td>25.616244</td>\n",
       "      <td>71.481779</td>\n",
       "      <td>6.469480</td>\n",
       "      <td>103.463655</td>\n",
       "    </tr>\n",
       "    <tr>\n",
       "      <th>std</th>\n",
       "      <td>36.917334</td>\n",
       "      <td>32.985883</td>\n",
       "      <td>50.647931</td>\n",
       "      <td>5.063749</td>\n",
       "      <td>22.263812</td>\n",
       "      <td>0.773938</td>\n",
       "      <td>54.958389</td>\n",
       "    </tr>\n",
       "    <tr>\n",
       "      <th>min</th>\n",
       "      <td>0.000000</td>\n",
       "      <td>5.000000</td>\n",
       "      <td>5.000000</td>\n",
       "      <td>8.825675</td>\n",
       "      <td>14.258040</td>\n",
       "      <td>3.504752</td>\n",
       "      <td>20.211267</td>\n",
       "    </tr>\n",
       "    <tr>\n",
       "      <th>25%</th>\n",
       "      <td>21.000000</td>\n",
       "      <td>28.000000</td>\n",
       "      <td>20.000000</td>\n",
       "      <td>22.769375</td>\n",
       "      <td>60.261953</td>\n",
       "      <td>5.971693</td>\n",
       "      <td>64.551686</td>\n",
       "    </tr>\n",
       "    <tr>\n",
       "      <th>50%</th>\n",
       "      <td>37.000000</td>\n",
       "      <td>51.000000</td>\n",
       "      <td>32.000000</td>\n",
       "      <td>25.598693</td>\n",
       "      <td>80.473146</td>\n",
       "      <td>6.425045</td>\n",
       "      <td>94.867624</td>\n",
       "    </tr>\n",
       "    <tr>\n",
       "      <th>75%</th>\n",
       "      <td>84.250000</td>\n",
       "      <td>68.000000</td>\n",
       "      <td>49.000000</td>\n",
       "      <td>28.561654</td>\n",
       "      <td>89.948771</td>\n",
       "      <td>6.923643</td>\n",
       "      <td>124.267508</td>\n",
       "    </tr>\n",
       "    <tr>\n",
       "      <th>max</th>\n",
       "      <td>140.000000</td>\n",
       "      <td>145.000000</td>\n",
       "      <td>205.000000</td>\n",
       "      <td>43.675493</td>\n",
       "      <td>99.981876</td>\n",
       "      <td>9.935091</td>\n",
       "      <td>298.560117</td>\n",
       "    </tr>\n",
       "  </tbody>\n",
       "</table>\n",
       "</div>"
      ],
      "text/plain": [
       "                 N            P            K  temperature     humidity  \\\n",
       "count  2200.000000  2200.000000  2200.000000  2200.000000  2200.000000   \n",
       "mean     50.551818    53.362727    48.149091    25.616244    71.481779   \n",
       "std      36.917334    32.985883    50.647931     5.063749    22.263812   \n",
       "min       0.000000     5.000000     5.000000     8.825675    14.258040   \n",
       "25%      21.000000    28.000000    20.000000    22.769375    60.261953   \n",
       "50%      37.000000    51.000000    32.000000    25.598693    80.473146   \n",
       "75%      84.250000    68.000000    49.000000    28.561654    89.948771   \n",
       "max     140.000000   145.000000   205.000000    43.675493    99.981876   \n",
       "\n",
       "                ph     rainfall  \n",
       "count  2200.000000  2200.000000  \n",
       "mean      6.469480   103.463655  \n",
       "std       0.773938    54.958389  \n",
       "min       3.504752    20.211267  \n",
       "25%       5.971693    64.551686  \n",
       "50%       6.425045    94.867624  \n",
       "75%       6.923643   124.267508  \n",
       "max       9.935091   298.560117  "
      ]
     },
     "execution_count": 8,
     "metadata": {},
     "output_type": "execute_result"
    }
   ],
   "source": [
    "crop.describe()"
   ]
  },
  {
   "cell_type": "markdown",
   "id": "3036ddbf-2b60-474d-a955-df0d41122625",
   "metadata": {},
   "source": [
    "# EXPLORING DATA"
   ]
  },
  {
   "cell_type": "code",
   "execution_count": 9,
   "id": "fe13856a-e0d6-4184-a60a-591577c8e918",
   "metadata": {
    "scrolled": true
   },
   "outputs": [],
   "source": [
    "non_numeric_cols = crop.select_dtypes(include=['object']).columns\n",
    "# print(f\"Non-numeric columns: {non_numeric_cols}\")"
   ]
  },
  {
   "cell_type": "code",
   "execution_count": 10,
   "id": "dca96fb7-4c13-412a-b04f-a330452987c9",
   "metadata": {},
   "outputs": [],
   "source": [
    "numeric_crop = crop.select_dtypes(include=[np.number])"
   ]
  },
  {
   "cell_type": "code",
   "execution_count": 11,
   "id": "73816136-bde7-4a7a-89fa-bb9370ccdebf",
   "metadata": {},
   "outputs": [
    {
     "data": {
      "text/html": [
       "<div>\n",
       "<style scoped>\n",
       "    .dataframe tbody tr th:only-of-type {\n",
       "        vertical-align: middle;\n",
       "    }\n",
       "\n",
       "    .dataframe tbody tr th {\n",
       "        vertical-align: top;\n",
       "    }\n",
       "\n",
       "    .dataframe thead th {\n",
       "        text-align: right;\n",
       "    }\n",
       "</style>\n",
       "<table border=\"1\" class=\"dataframe\">\n",
       "  <thead>\n",
       "    <tr style=\"text-align: right;\">\n",
       "      <th></th>\n",
       "      <th>N</th>\n",
       "      <th>P</th>\n",
       "      <th>K</th>\n",
       "      <th>temperature</th>\n",
       "      <th>humidity</th>\n",
       "      <th>ph</th>\n",
       "      <th>rainfall</th>\n",
       "    </tr>\n",
       "  </thead>\n",
       "  <tbody>\n",
       "    <tr>\n",
       "      <th>N</th>\n",
       "      <td>1.000000</td>\n",
       "      <td>-0.231460</td>\n",
       "      <td>-0.140512</td>\n",
       "      <td>0.026504</td>\n",
       "      <td>0.190688</td>\n",
       "      <td>0.096683</td>\n",
       "      <td>0.059020</td>\n",
       "    </tr>\n",
       "    <tr>\n",
       "      <th>P</th>\n",
       "      <td>-0.231460</td>\n",
       "      <td>1.000000</td>\n",
       "      <td>0.736232</td>\n",
       "      <td>-0.127541</td>\n",
       "      <td>-0.118734</td>\n",
       "      <td>-0.138019</td>\n",
       "      <td>-0.063839</td>\n",
       "    </tr>\n",
       "    <tr>\n",
       "      <th>K</th>\n",
       "      <td>-0.140512</td>\n",
       "      <td>0.736232</td>\n",
       "      <td>1.000000</td>\n",
       "      <td>-0.160387</td>\n",
       "      <td>0.190859</td>\n",
       "      <td>-0.169503</td>\n",
       "      <td>-0.053461</td>\n",
       "    </tr>\n",
       "    <tr>\n",
       "      <th>temperature</th>\n",
       "      <td>0.026504</td>\n",
       "      <td>-0.127541</td>\n",
       "      <td>-0.160387</td>\n",
       "      <td>1.000000</td>\n",
       "      <td>0.205320</td>\n",
       "      <td>-0.017795</td>\n",
       "      <td>-0.030084</td>\n",
       "    </tr>\n",
       "    <tr>\n",
       "      <th>humidity</th>\n",
       "      <td>0.190688</td>\n",
       "      <td>-0.118734</td>\n",
       "      <td>0.190859</td>\n",
       "      <td>0.205320</td>\n",
       "      <td>1.000000</td>\n",
       "      <td>-0.008483</td>\n",
       "      <td>0.094423</td>\n",
       "    </tr>\n",
       "    <tr>\n",
       "      <th>ph</th>\n",
       "      <td>0.096683</td>\n",
       "      <td>-0.138019</td>\n",
       "      <td>-0.169503</td>\n",
       "      <td>-0.017795</td>\n",
       "      <td>-0.008483</td>\n",
       "      <td>1.000000</td>\n",
       "      <td>-0.109069</td>\n",
       "    </tr>\n",
       "    <tr>\n",
       "      <th>rainfall</th>\n",
       "      <td>0.059020</td>\n",
       "      <td>-0.063839</td>\n",
       "      <td>-0.053461</td>\n",
       "      <td>-0.030084</td>\n",
       "      <td>0.094423</td>\n",
       "      <td>-0.109069</td>\n",
       "      <td>1.000000</td>\n",
       "    </tr>\n",
       "  </tbody>\n",
       "</table>\n",
       "</div>"
      ],
      "text/plain": [
       "                    N         P         K  temperature  humidity        ph  \\\n",
       "N            1.000000 -0.231460 -0.140512     0.026504  0.190688  0.096683   \n",
       "P           -0.231460  1.000000  0.736232    -0.127541 -0.118734 -0.138019   \n",
       "K           -0.140512  0.736232  1.000000    -0.160387  0.190859 -0.169503   \n",
       "temperature  0.026504 -0.127541 -0.160387     1.000000  0.205320 -0.017795   \n",
       "humidity     0.190688 -0.118734  0.190859     0.205320  1.000000 -0.008483   \n",
       "ph           0.096683 -0.138019 -0.169503    -0.017795 -0.008483  1.000000   \n",
       "rainfall     0.059020 -0.063839 -0.053461    -0.030084  0.094423 -0.109069   \n",
       "\n",
       "             rainfall  \n",
       "N            0.059020  \n",
       "P           -0.063839  \n",
       "K           -0.053461  \n",
       "temperature -0.030084  \n",
       "humidity     0.094423  \n",
       "ph          -0.109069  \n",
       "rainfall     1.000000  "
      ]
     },
     "execution_count": 11,
     "metadata": {},
     "output_type": "execute_result"
    }
   ],
   "source": [
    "corr = numeric_crop.corr()\n",
    "corr"
   ]
  },
  {
   "cell_type": "code",
   "execution_count": 12,
   "id": "6363a953-4ff8-421b-a80a-23a77cc0b873",
   "metadata": {},
   "outputs": [
    {
     "data": {
      "text/plain": [
       "<Axes: >"
      ]
     },
     "execution_count": 12,
     "metadata": {},
     "output_type": "execute_result"
    },
    {
     "data": {
      "image/png": "[encoded data removed]",
      "text/plain": [
       "<Figure size 640x480 with 2 Axes>"
      ]
     },
     "metadata": {},
     "output_type": "display_data"
    }
   ],
   "source": [
    "\n",
    "sns.heatmap(corr,annot=True,cbar=True, cmap='coolwarm')"
   ]
  },
  {
   "cell_type": "code",
   "execution_count": 13,
   "id": "93d599e4-3a16-45ed-bb73-d6a00f40c4d5",
   "metadata": {},
   "outputs": [
    {
     "data": {
      "text/plain": [
       "label\n",
       "rice           100\n",
       "maize          100\n",
       "jute           100\n",
       "cotton         100\n",
       "coconut        100\n",
       "papaya         100\n",
       "orange         100\n",
       "apple          100\n",
       "muskmelon      100\n",
       "watermelon     100\n",
       "grapes         100\n",
       "mango          100\n",
       "banana         100\n",
       "pomegranate    100\n",
       "lentil         100\n",
       "blackgram      100\n",
       "mungbean       100\n",
       "mothbeans      100\n",
       "pigeonpeas     100\n",
       "kidneybeans    100\n",
       "chickpea       100\n",
       "coffee         100\n",
       "Name: count, dtype: int64"
      ]
     },
     "execution_count": 13,
     "metadata": {},
     "output_type": "execute_result"
    }
   ],
   "source": [
    "crop['label'].value_counts()"
   ]
  },
  {
   "cell_type": "code",
   "execution_count": 14,
   "id": "a3454aea-485b-470f-9d92-659f8cdd3851",
   "metadata": {},
   "outputs": [
    {
     "data": {
      "image/png": "[encoded data removed]",
      "text/plain": [
       "<Figure size 500x500 with 1 Axes>"
      ]
     },
     "metadata": {},
     "output_type": "display_data"
    }
   ],
   "source": [
    "import matplotlib.pyplot as plt\n",
    "sns.displot(crop['N'], kde=True)  # kde=True adds the KDE to the histogram\n",
    "plt.title('Distribution of Nitrogen (N)')\n",
    "plt.xlabel('Nitrogen (N)')\n",
    "plt.ylabel('Frequency')\n",
    "plt.show()"
   ]
  },
  {
   "cell_type": "markdown",
   "id": "ef95c9c9-67b8-450f-a36a-04e2c3c3887b",
   "metadata": {},
   "source": [
    "# ENCODING"
   ]
  },
  {
   "cell_type": "code",
   "execution_count": 15,
   "id": "c034f198-d302-4f53-9232-011d66c6ba50",
   "metadata": {},
   "outputs": [],
   "source": [
    "crop_dict = {\n",
    "    'rice': 1,\n",
    "    'maize': 2,\n",
    "    'jute': 3,\n",
    "    'cotton': 4,\n",
    "    'coconut': 5,\n",
    "    'papaya': 6,\n",
    "    'orange': 7,\n",
    "    'apple': 8,\n",
    "    'muskmelon': 9,\n",
    "    'watermelon': 10,\n",
    "    'grapes': 11,\n",
    "    'mango': 12,\n",
    "    'banana': 13,\n",
    "    'pomegranate': 14,\n",
    "    'lentil': 15,\n",
    "    'blackgram': 16,\n",
    "    'mungbean': 17,\n",
    "    'mothbeans': 18,\n",
    "    'pigeonpeas': 19,\n",
    "    'kidneybeans': 20,\n",
    "    'chickpea': 21,\n",
    "    'coffee': 22\n",
    "}\n",
    "crop['crop_num']=crop['label'].map(crop_dict)"
   ]
  },
  {
   "cell_type": "code",
   "execution_count": 16,
   "id": "0f581fb9-c695-4db1-835f-4f6fe1e5734a",
   "metadata": {},
   "outputs": [
    {
     "data": {
      "text/plain": [
       "crop_num\n",
       "1     100\n",
       "2     100\n",
       "3     100\n",
       "4     100\n",
       "5     100\n",
       "6     100\n",
       "7     100\n",
       "8     100\n",
       "9     100\n",
       "10    100\n",
       "11    100\n",
       "12    100\n",
       "13    100\n",
       "14    100\n",
       "15    100\n",
       "16    100\n",
       "17    100\n",
       "18    100\n",
       "19    100\n",
       "20    100\n",
       "21    100\n",
       "22    100\n",
       "Name: count, dtype: int64"
      ]
     },
     "execution_count": 16,
     "metadata": {},
     "output_type": "execute_result"
    }
   ],
   "source": [
    "crop['crop_num'].value_counts()"
   ]
  },
  {
   "cell_type": "code",
   "execution_count": 17,
   "id": "31edbb63-ae82-4661-916b-b95576798841",
   "metadata": {},
   "outputs": [
    {
     "data": {
      "text/html": [
       "<div>\n",
       "<style scoped>\n",
       "    .dataframe tbody tr th:only-of-type {\n",
       "        vertical-align: middle;\n",
       "    }\n",
       "\n",
       "    .dataframe tbody tr th {\n",
       "        vertical-align: top;\n",
       "    }\n",
       "\n",
       "    .dataframe thead th {\n",
       "        text-align: right;\n",
       "    }\n",
       "</style>\n",
       "<table border=\"1\" class=\"dataframe\">\n",
       "  <thead>\n",
       "    <tr style=\"text-align: right;\">\n",
       "      <th></th>\n",
       "      <th>N</th>\n",
       "      <th>P</th>\n",
       "      <th>K</th>\n",
       "      <th>temperature</th>\n",
       "      <th>humidity</th>\n",
       "      <th>ph</th>\n",
       "      <th>rainfall</th>\n",
       "      <th>label</th>\n",
       "      <th>crop_num</th>\n",
       "    </tr>\n",
       "  </thead>\n",
       "  <tbody>\n",
       "    <tr>\n",
       "      <th>0</th>\n",
       "      <td>90</td>\n",
       "      <td>42</td>\n",
       "      <td>43</td>\n",
       "      <td>20.879744</td>\n",
       "      <td>82.002744</td>\n",
       "      <td>6.502985</td>\n",
       "      <td>202.935536</td>\n",
       "      <td>rice</td>\n",
       "      <td>1</td>\n",
       "    </tr>\n",
       "    <tr>\n",
       "      <th>1</th>\n",
       "      <td>85</td>\n",
       "      <td>58</td>\n",
       "      <td>41</td>\n",
       "      <td>21.770462</td>\n",
       "      <td>80.319644</td>\n",
       "      <td>7.038096</td>\n",
       "      <td>226.655537</td>\n",
       "      <td>rice</td>\n",
       "      <td>1</td>\n",
       "    </tr>\n",
       "    <tr>\n",
       "      <th>2</th>\n",
       "      <td>60</td>\n",
       "      <td>55</td>\n",
       "      <td>44</td>\n",
       "      <td>23.004459</td>\n",
       "      <td>82.320763</td>\n",
       "      <td>7.840207</td>\n",
       "      <td>263.964248</td>\n",
       "      <td>rice</td>\n",
       "      <td>1</td>\n",
       "    </tr>\n",
       "    <tr>\n",
       "      <th>3</th>\n",
       "      <td>74</td>\n",
       "      <td>35</td>\n",
       "      <td>40</td>\n",
       "      <td>26.491096</td>\n",
       "      <td>80.158363</td>\n",
       "      <td>6.980401</td>\n",
       "      <td>242.864034</td>\n",
       "      <td>rice</td>\n",
       "      <td>1</td>\n",
       "    </tr>\n",
       "    <tr>\n",
       "      <th>4</th>\n",
       "      <td>78</td>\n",
       "      <td>42</td>\n",
       "      <td>42</td>\n",
       "      <td>20.130175</td>\n",
       "      <td>81.604873</td>\n",
       "      <td>7.628473</td>\n",
       "      <td>262.717340</td>\n",
       "      <td>rice</td>\n",
       "      <td>1</td>\n",
       "    </tr>\n",
       "  </tbody>\n",
       "</table>\n",
       "</div>"
      ],
      "text/plain": [
       "    N   P   K  temperature   humidity        ph    rainfall label  crop_num\n",
       "0  90  42  43    20.879744  82.002744  6.502985  202.935536  rice         1\n",
       "1  85  58  41    21.770462  80.319644  7.038096  226.655537  rice         1\n",
       "2  60  55  44    23.004459  82.320763  7.840207  263.964248  rice         1\n",
       "3  74  35  40    26.491096  80.158363  6.980401  242.864034  rice         1\n",
       "4  78  42  42    20.130175  81.604873  7.628473  262.717340  rice         1"
      ]
     },
     "execution_count": 17,
     "metadata": {},
     "output_type": "execute_result"
    }
   ],
   "source": [
    "# crop.drop(['label'],axis=1,inplace=True)\n",
    "crop.head()"
   ]
  },
  {
   "cell_type": "markdown",
   "id": "89633df9-edef-449c-9c53-d59cc5c9166a",
   "metadata": {},
   "source": [
    "# TRAIN TEST SPLIT"
   ]
  },
  {
   "cell_type": "code",
   "execution_count": 18,
   "id": "783af6f9-02be-4035-8502-082d31f948f2",
   "metadata": {},
   "outputs": [],
   "source": [
    "X = crop.drop(['crop_num','label'],axis=1)\n",
    "y = crop['crop_num']"
   ]
  },
  {
   "cell_type": "code",
   "execution_count": 19,
   "id": "21db77ca-9d1d-4396-954b-9a428c91563e",
   "metadata": {},
   "outputs": [
    {
     "data": {
      "text/html": [
       "<div>\n",
       "<style scoped>\n",
       "    .dataframe tbody tr th:only-of-type {\n",
       "        vertical-align: middle;\n",
       "    }\n",
       "\n",
       "    .dataframe tbody tr th {\n",
       "        vertical-align: top;\n",
       "    }\n",
       "\n",
       "    .dataframe thead th {\n",
       "        text-align: right;\n",
       "    }\n",
       "</style>\n",
       "<table border=\"1\" class=\"dataframe\">\n",
       "  <thead>\n",
       "    <tr style=\"text-align: right;\">\n",
       "      <th></th>\n",
       "      <th>N</th>\n",
       "      <th>P</th>\n",
       "      <th>K</th>\n",
       "      <th>temperature</th>\n",
       "      <th>humidity</th>\n",
       "      <th>ph</th>\n",
       "      <th>rainfall</th>\n",
       "    </tr>\n",
       "  </thead>\n",
       "  <tbody>\n",
       "    <tr>\n",
       "      <th>0</th>\n",
       "      <td>90</td>\n",
       "      <td>42</td>\n",
       "      <td>43</td>\n",
       "      <td>20.879744</td>\n",
       "      <td>82.002744</td>\n",
       "      <td>6.502985</td>\n",
       "      <td>202.935536</td>\n",
       "    </tr>\n",
       "    <tr>\n",
       "      <th>1</th>\n",
       "      <td>85</td>\n",
       "      <td>58</td>\n",
       "      <td>41</td>\n",
       "      <td>21.770462</td>\n",
       "      <td>80.319644</td>\n",
       "      <td>7.038096</td>\n",
       "      <td>226.655537</td>\n",
       "    </tr>\n",
       "    <tr>\n",
       "      <th>2</th>\n",
       "      <td>60</td>\n",
       "      <td>55</td>\n",
       "      <td>44</td>\n",
       "      <td>23.004459</td>\n",
       "      <td>82.320763</td>\n",
       "      <td>7.840207</td>\n",
       "      <td>263.964248</td>\n",
       "    </tr>\n",
       "    <tr>\n",
       "      <th>3</th>\n",
       "      <td>74</td>\n",
       "      <td>35</td>\n",
       "      <td>40</td>\n",
       "      <td>26.491096</td>\n",
       "      <td>80.158363</td>\n",
       "      <td>6.980401</td>\n",
       "      <td>242.864034</td>\n",
       "    </tr>\n",
       "    <tr>\n",
       "      <th>4</th>\n",
       "      <td>78</td>\n",
       "      <td>42</td>\n",
       "      <td>42</td>\n",
       "      <td>20.130175</td>\n",
       "      <td>81.604873</td>\n",
       "      <td>7.628473</td>\n",
       "      <td>262.717340</td>\n",
       "    </tr>\n",
       "    <tr>\n",
       "      <th>...</th>\n",
       "      <td>...</td>\n",
       "      <td>...</td>\n",
       "      <td>...</td>\n",
       "      <td>...</td>\n",
       "      <td>...</td>\n",
       "      <td>...</td>\n",
       "      <td>...</td>\n",
       "    </tr>\n",
       "    <tr>\n",
       "      <th>2195</th>\n",
       "      <td>107</td>\n",
       "      <td>34</td>\n",
       "      <td>32</td>\n",
       "      <td>26.774637</td>\n",
       "      <td>66.413269</td>\n",
       "      <td>6.780064</td>\n",
       "      <td>177.774507</td>\n",
       "    </tr>\n",
       "    <tr>\n",
       "      <th>2196</th>\n",
       "      <td>99</td>\n",
       "      <td>15</td>\n",
       "      <td>27</td>\n",
       "      <td>27.417112</td>\n",
       "      <td>56.636362</td>\n",
       "      <td>6.086922</td>\n",
       "      <td>127.924610</td>\n",
       "    </tr>\n",
       "    <tr>\n",
       "      <th>2197</th>\n",
       "      <td>118</td>\n",
       "      <td>33</td>\n",
       "      <td>30</td>\n",
       "      <td>24.131797</td>\n",
       "      <td>67.225123</td>\n",
       "      <td>6.362608</td>\n",
       "      <td>173.322839</td>\n",
       "    </tr>\n",
       "    <tr>\n",
       "      <th>2198</th>\n",
       "      <td>117</td>\n",
       "      <td>32</td>\n",
       "      <td>34</td>\n",
       "      <td>26.272418</td>\n",
       "      <td>52.127394</td>\n",
       "      <td>6.758793</td>\n",
       "      <td>127.175293</td>\n",
       "    </tr>\n",
       "    <tr>\n",
       "      <th>2199</th>\n",
       "      <td>104</td>\n",
       "      <td>18</td>\n",
       "      <td>30</td>\n",
       "      <td>23.603016</td>\n",
       "      <td>60.396475</td>\n",
       "      <td>6.779833</td>\n",
       "      <td>140.937041</td>\n",
       "    </tr>\n",
       "  </tbody>\n",
       "</table>\n",
       "<p>2200 rows × 7 columns</p>\n",
       "</div>"
      ],
      "text/plain": [
       "        N   P   K  temperature   humidity        ph    rainfall\n",
       "0      90  42  43    20.879744  82.002744  6.502985  202.935536\n",
       "1      85  58  41    21.770462  80.319644  7.038096  226.655537\n",
       "2      60  55  44    23.004459  82.320763  7.840207  263.964248\n",
       "3      74  35  40    26.491096  80.158363  6.980401  242.864034\n",
       "4      78  42  42    20.130175  81.604873  7.628473  262.717340\n",
       "...   ...  ..  ..          ...        ...       ...         ...\n",
       "2195  107  34  32    26.774637  66.413269  6.780064  177.774507\n",
       "2196   99  15  27    27.417112  56.636362  6.086922  127.924610\n",
       "2197  118  33  30    24.131797  67.225123  6.362608  173.322839\n",
       "2198  117  32  34    26.272418  52.127394  6.758793  127.175293\n",
       "2199  104  18  30    23.603016  60.396475  6.779833  140.937041\n",
       "\n",
       "[2200 rows x 7 columns]"
      ]
     },
     "execution_count": 19,
     "metadata": {},
     "output_type": "execute_result"
    }
   ],
   "source": [
    "X"
   ]
  },
  {
   "cell_type": "code",
   "execution_count": 20,
   "id": "b266019f-97dd-4979-b24c-e03343696d46",
   "metadata": {},
   "outputs": [
    {
     "data": {
      "text/plain": [
       "(2200,)"
      ]
     },
     "execution_count": 20,
     "metadata": {},
     "output_type": "execute_result"
    }
   ],
   "source": [
    "y.shape"
   ]
  },
  {
   "cell_type": "code",
   "execution_count": 21,
   "id": "dcf9cc4d-04cd-4b46-b884-438605995d69",
   "metadata": {},
   "outputs": [],
   "source": [
    "X_train, X_test, y_train, y_test = train_test_split(X, y, test_size=0.2, random_state=42)"
   ]
  },
  {
   "cell_type": "code",
   "execution_count": 22,
   "id": "96622849-600a-4cec-b9fa-f313b87460a4",
   "metadata": {},
   "outputs": [
    {
     "data": {
      "text/plain": [
       "(1760, 7)"
      ]
     },
     "execution_count": 22,
     "metadata": {},
     "output_type": "execute_result"
    }
   ],
   "source": [
    "X_train.shape"
   ]
  },
  {
   "cell_type": "code",
   "execution_count": 23,
   "id": "e9362254-435b-4545-9255-6f4642bf3215",
   "metadata": {},
   "outputs": [
    {
     "data": {
      "text/plain": [
       "(440, 7)"
      ]
     },
     "execution_count": 23,
     "metadata": {},
     "output_type": "execute_result"
    }
   ],
   "source": [
    "X_test.shape"
   ]
  },
  {
   "cell_type": "code",
   "execution_count": 24,
   "id": "9b8e8a19-ae40-4a76-89fa-a863e86da740",
   "metadata": {},
   "outputs": [
    {
     "data": {
      "text/html": [
       "<div>\n",
       "<style scoped>\n",
       "    .dataframe tbody tr th:only-of-type {\n",
       "        vertical-align: middle;\n",
       "    }\n",
       "\n",
       "    .dataframe tbody tr th {\n",
       "        vertical-align: top;\n",
       "    }\n",
       "\n",
       "    .dataframe thead th {\n",
       "        text-align: right;\n",
       "    }\n",
       "</style>\n",
       "<table border=\"1\" class=\"dataframe\">\n",
       "  <thead>\n",
       "    <tr style=\"text-align: right;\">\n",
       "      <th></th>\n",
       "      <th>N</th>\n",
       "      <th>P</th>\n",
       "      <th>K</th>\n",
       "      <th>temperature</th>\n",
       "      <th>humidity</th>\n",
       "      <th>ph</th>\n",
       "      <th>rainfall</th>\n",
       "    </tr>\n",
       "  </thead>\n",
       "  <tbody>\n",
       "    <tr>\n",
       "      <th>1656</th>\n",
       "      <td>17</td>\n",
       "      <td>16</td>\n",
       "      <td>14</td>\n",
       "      <td>16.396243</td>\n",
       "      <td>92.181519</td>\n",
       "      <td>6.625539</td>\n",
       "      <td>102.944161</td>\n",
       "    </tr>\n",
       "    <tr>\n",
       "      <th>752</th>\n",
       "      <td>37</td>\n",
       "      <td>79</td>\n",
       "      <td>19</td>\n",
       "      <td>27.543848</td>\n",
       "      <td>69.347863</td>\n",
       "      <td>7.143943</td>\n",
       "      <td>69.408782</td>\n",
       "    </tr>\n",
       "    <tr>\n",
       "      <th>892</th>\n",
       "      <td>7</td>\n",
       "      <td>73</td>\n",
       "      <td>25</td>\n",
       "      <td>27.521856</td>\n",
       "      <td>63.132153</td>\n",
       "      <td>7.288057</td>\n",
       "      <td>45.208411</td>\n",
       "    </tr>\n",
       "    <tr>\n",
       "      <th>1041</th>\n",
       "      <td>101</td>\n",
       "      <td>70</td>\n",
       "      <td>48</td>\n",
       "      <td>25.360592</td>\n",
       "      <td>75.031933</td>\n",
       "      <td>6.012697</td>\n",
       "      <td>116.553145</td>\n",
       "    </tr>\n",
       "    <tr>\n",
       "      <th>1179</th>\n",
       "      <td>0</td>\n",
       "      <td>17</td>\n",
       "      <td>30</td>\n",
       "      <td>35.474783</td>\n",
       "      <td>47.972305</td>\n",
       "      <td>6.279134</td>\n",
       "      <td>97.790725</td>\n",
       "    </tr>\n",
       "    <tr>\n",
       "      <th>...</th>\n",
       "      <td>...</td>\n",
       "      <td>...</td>\n",
       "      <td>...</td>\n",
       "      <td>...</td>\n",
       "      <td>...</td>\n",
       "      <td>...</td>\n",
       "      <td>...</td>\n",
       "    </tr>\n",
       "    <tr>\n",
       "      <th>1638</th>\n",
       "      <td>10</td>\n",
       "      <td>5</td>\n",
       "      <td>5</td>\n",
       "      <td>21.213070</td>\n",
       "      <td>91.353492</td>\n",
       "      <td>7.817846</td>\n",
       "      <td>112.983436</td>\n",
       "    </tr>\n",
       "    <tr>\n",
       "      <th>1095</th>\n",
       "      <td>108</td>\n",
       "      <td>94</td>\n",
       "      <td>47</td>\n",
       "      <td>27.359116</td>\n",
       "      <td>84.546250</td>\n",
       "      <td>6.387431</td>\n",
       "      <td>90.812505</td>\n",
       "    </tr>\n",
       "    <tr>\n",
       "      <th>1130</th>\n",
       "      <td>11</td>\n",
       "      <td>36</td>\n",
       "      <td>31</td>\n",
       "      <td>27.920633</td>\n",
       "      <td>51.779659</td>\n",
       "      <td>6.475449</td>\n",
       "      <td>100.258567</td>\n",
       "    </tr>\n",
       "    <tr>\n",
       "      <th>1294</th>\n",
       "      <td>11</td>\n",
       "      <td>124</td>\n",
       "      <td>204</td>\n",
       "      <td>13.429886</td>\n",
       "      <td>80.066340</td>\n",
       "      <td>6.361141</td>\n",
       "      <td>71.400430</td>\n",
       "    </tr>\n",
       "    <tr>\n",
       "      <th>860</th>\n",
       "      <td>32</td>\n",
       "      <td>78</td>\n",
       "      <td>22</td>\n",
       "      <td>23.970814</td>\n",
       "      <td>62.355576</td>\n",
       "      <td>7.007038</td>\n",
       "      <td>53.409060</td>\n",
       "    </tr>\n",
       "  </tbody>\n",
       "</table>\n",
       "<p>1760 rows × 7 columns</p>\n",
       "</div>"
      ],
      "text/plain": [
       "        N    P    K  temperature   humidity        ph    rainfall\n",
       "1656   17   16   14    16.396243  92.181519  6.625539  102.944161\n",
       "752    37   79   19    27.543848  69.347863  7.143943   69.408782\n",
       "892     7   73   25    27.521856  63.132153  7.288057   45.208411\n",
       "1041  101   70   48    25.360592  75.031933  6.012697  116.553145\n",
       "1179    0   17   30    35.474783  47.972305  6.279134   97.790725\n",
       "...   ...  ...  ...          ...        ...       ...         ...\n",
       "1638   10    5    5    21.213070  91.353492  7.817846  112.983436\n",
       "1095  108   94   47    27.359116  84.546250  6.387431   90.812505\n",
       "1130   11   36   31    27.920633  51.779659  6.475449  100.258567\n",
       "1294   11  124  204    13.429886  80.066340  6.361141   71.400430\n",
       "860    32   78   22    23.970814  62.355576  7.007038   53.409060\n",
       "\n",
       "[1760 rows x 7 columns]"
      ]
     },
     "execution_count": 24,
     "metadata": {},
     "output_type": "execute_result"
    }
   ],
   "source": [
    "X_train"
   ]
  },
  {
   "cell_type": "markdown",
   "id": "6727086e-d208-4ef0-8c92-e94730e1b9d2",
   "metadata": {},
   "source": [
    "# Scale the features using MinMaxScaler"
   ]
  },
  {
   "cell_type": "code",
   "execution_count": 25,
   "id": "b1ae7857-75ec-4e9c-8cf4-1217a08ac19d",
   "metadata": {},
   "outputs": [],
   "source": [
    "sc = StandardScaler()\n",
    "\n",
    "\n",
    "sc.fit(X_train)\n",
    "X_train = sc.transform(X_train)\n",
    "X_test = sc.transform(X_test)"
   ]
  },
  {
   "cell_type": "code",
   "execution_count": 26,
   "id": "a1106b61-8144-4212-8970-e7934391555b",
   "metadata": {},
   "outputs": [
    {
     "data": {
      "text/plain": [
       "array([[-9.03426596e-01, -1.12616170e+00, -6.68506601e-01, ...,\n",
       "         9.36586183e-01,  1.93473784e-01,  5.14970176e-03],\n",
       "       [-3.67051340e-01,  7.70358846e-01, -5.70589522e-01, ...,\n",
       "        -1.00470485e-01,  8.63917548e-01, -6.05290566e-01],\n",
       "       [-1.17161422e+00,  5.89737842e-01, -4.53089028e-01, ...,\n",
       "        -3.82774991e-01,  1.05029771e+00, -1.04580687e+00],\n",
       "       ...,\n",
       "       [-1.06433917e+00, -5.24091685e-01, -3.35588533e-01, ...,\n",
       "        -8.98381379e-01, -6.34357580e-04, -4.37358211e-02],\n",
       "       [-1.06433917e+00,  2.12501638e+00,  3.05234239e+00, ...,\n",
       "         3.86340190e-01, -1.48467347e-01, -5.69036842e-01],\n",
       "       [-5.01145154e-01,  7.40255346e-01, -5.11839275e-01, ...,\n",
       "        -4.18045489e-01,  6.86860180e-01, -8.96531475e-01]])"
      ]
     },
     "execution_count": 26,
     "metadata": {},
     "output_type": "execute_result"
    }
   ],
   "source": [
    "X_train"
   ]
  },
  {
   "cell_type": "markdown",
   "id": "f488cce9-4c8a-429e-bd1d-ea80700c2a30",
   "metadata": {},
   "source": [
    "# TRAINING MODELS"
   ]
  },
  {
   "cell_type": "code",
   "execution_count": 31,
   "id": "b775cfb0-f221-4d9d-bdf3-d9327fbe7b98",
   "metadata": {},
   "outputs": [
    {
     "name": "stdout",
     "output_type": "stream",
     "text": [
      "Logistic Regression - Accuracy: 0.9636, Precision: 0.9644, Recall: 0.9636, F1 Score: 0.9635\n",
      "Naive Bayes - Accuracy: 0.9955, Precision: 0.9958, Recall: 0.9955, F1 Score: 0.9954\n",
      "Support Vector Machine - Accuracy: 0.9682, Precision: 0.9715, Recall: 0.9682, F1 Score: 0.9680\n",
      "K-Nearest Neighbors - Accuracy: 0.9591, Precision: 0.9654, Recall: 0.9591, F1 Score: 0.9590\n",
      "Decision Tree - Accuracy: 0.9886, Precision: 0.9890, Recall: 0.9886, F1 Score: 0.9886\n",
      "Random Forest - Accuracy: 0.9932, Precision: 0.9937, Recall: 0.9932, F1 Score: 0.9932\n",
      "Bagging - Accuracy: 0.9864, Precision: 0.9867, Recall: 0.9864, F1 Score: 0.9864\n",
      "AdaBoost - Accuracy: 0.1455, Precision: 0.0636, Recall: 0.1455, F1 Score: 0.0757\n",
      "Gradient Boosting - Accuracy: 0.9818, Precision: 0.9843, Recall: 0.9818, F1 Score: 0.9819\n",
      "Extra Trees - Accuracy: 0.8932, Precision: 0.9103, Recall: 0.8932, F1 Score: 0.8977\n"
     ]
    }
   ],
   "source": [
    "# create instances of all models\n",
    "models = {\n",
    "    'Logistic Regression': LogisticRegression(),\n",
    "    'Naive Bayes': GaussianNB(),\n",
    "    'Support Vector Machine': SVC(),\n",
    "    'K-Nearest Neighbors': KNeighborsClassifier(),\n",
    "    'Decision Tree': DecisionTreeClassifier(),\n",
    "    'Random Forest': RandomForestClassifier(),\n",
    "    'Bagging': BaggingClassifier(),\n",
    "    'AdaBoost': AdaBoostClassifier(algorithm='SAMME'),\n",
    "    'Gradient Boosting': GradientBoostingClassifier(),\n",
    "    'Extra Trees': ExtraTreeClassifier(),\n",
    "}\n",
    "\n",
    "# Train and evaluate each model\n",
    "for name, model in models.items():\n",
    "    try:\n",
    "        model.fit(X_train, y_train)\n",
    "        y_pred = model.predict(X_test)\n",
    "\n",
    "        accuracy = accuracy_score(y_test, y_pred)\n",
    "        precision = precision_score(y_test, y_pred, average='weighted', zero_division=0)  # Adjusted to handle zero division\n",
    "        recall = recall_score(y_test, y_pred, average='weighted')\n",
    "        f1 = f1_score(y_test, y_pred, average='weighted')\n",
    "\n",
    "        print(f\"{name} - Accuracy: {accuracy:.4f}, Precision: {precision:.4f}, Recall: {recall:.4f}, F1 Score: {f1:.4f}\")\n",
    "    except Exception as e:\n",
    "        print(f\"Error in {name}: {str(e)}\")"
   ]
  },
  {
   "cell_type": "code",
   "execution_count": 28,
   "id": "fd159f49-d107-4a42-94b9-6926bd33afc4",
   "metadata": {},
   "outputs": [
    {
     "data": {
      "text/plain": [
       "0.9931818181818182"
      ]
     },
     "execution_count": 28,
     "metadata": {},
     "output_type": "execute_result"
    }
   ],
   "source": [
    "rfc = RandomForestClassifier()\n",
    "rfc.fit(X_train,y_train)\n",
    "ypred = rfc.predict(X_test)\n",
    "accuracy_score(y_test,ypred)"
   ]
  },
  {
   "cell_type": "markdown",
   "id": "2c8210a7-42b1-43aa-ade7-bac9ce70a107",
   "metadata": {},
   "source": [
    "# PREDICTIVE SYSTEMS"
   ]
  },
  {
   "cell_type": "code",
   "execution_count": 52,
   "id": "e99abe87-b684-4a80-9c7d-2ab64c6399db",
   "metadata": {},
   "outputs": [],
   "source": [
    "def recommendation(N, P, k, temperature, humidity, ph, rainfall):\n",
    "    # Initialize necessary transformers\n",
    "    ms = MinMaxScaler()  # Example: MinMaxScaler for demonstration\n",
    "    sc = StandardScaler()  # Example: StandardScaler for demonstration\n",
    "\n",
    "    # Example: RandomForestClassifier (rfc) defined elsewhere\n",
    "    # Example: Ensure rfc is properly initialized or imported\n",
    "\n",
    "    # Assuming rfc, ms, and sc are defined or imported correctly elsewhere\n",
    "    features = np.array([[N, P, k, temperature, humidity, ph, rainfall]])\n",
    "    \n",
    "    # Apply transformations\n",
    "    transformed_features = ms.fit_transform(features)\n",
    "    transformed_features = sc.fit_transform(transformed_features)\n",
    "    \n",
    "    # Assuming rfc is defined elsewhere and used for prediction\n",
    "    prediction = rfc.predict(transformed_features).reshape(1, -1)\n",
    "    \n",
    "    return prediction"
   ]
  },
  {
   "cell_type": "code",
   "execution_count": 53,
   "id": "4f3807e2-1a66-46ef-9b7d-2bf5eed8a813",
   "metadata": {},
   "outputs": [
    {
     "name": "stdout",
     "output_type": "stream",
     "text": [
      "Best predicted crop is : Papaya\n"
     ]
    }
   ],
   "source": [
    "N = 10  # Example values for N, P, k, temperature, humidity, ph, and rainfall\n",
    "P = 20\n",
    "k = 30\n",
    "temperature = 25\n",
    "humidity = 60\n",
    "ph = 6.5\n",
    "rainfall = 100\n",
    "\n",
    "# Call the recommendation function\n",
    "predict = recommendation(N, P, k, temperature, humidity, ph, rainfall)\n",
    "crop_dict = {1: \"Rice\", 2: \"Maize\", 3: \"Jute\", 4: \"Cotton\", 5: \"Coconut\", 6: \"Papaya\", 7: \"Orange\",\n",
    "             8: \"Apple\", 9: \"Muskmelon\", 10: \"Watermelon\", 11: \"Grapes\", 12: \"Mango\", 13: \"Banana\",\n",
    "             14: \"Pomegranate\", 15: \"Lentil\", 16: \"Blackgram\", 17: \"Mungbean\", 18: \"Mothbeans\",\n",
    "             19: \"Pigeonpeas\", 20: \"Kidneybeans\", 21: \"Chickpea\", 22: \"Coffee\"}\n",
    "\n",
    "# Check prediction and map to crop name\n",
    "predicted_class = int(predict[0])  # Convert numpy array to integer\n",
    "if predicted_class in crop_dict:\n",
    "    predicted_crop = crop_dict[predicted_class]\n",
    "    print(f\"Best predicted crop is : {predicted_crop}\")\n",
    "else:\n",
    "    print(\"Crop not found in dictionary\")"
   ]
  },
  {
   "cell_type": "code",
   "execution_count": 55,
   "id": "76b75ff4-4447-4a4b-a398-09d6943ca639",
   "metadata": {},
   "outputs": [],
   "source": [
    "\n",
    "def recommendation(N, P, k, temperature, humidity, ph, rainfall):\n",
    "    ms = MinMaxScaler()  # Initialize MinMaxScaler\n",
    "    sc = StandardScaler()  # Initialize StandardScaler\n",
    "\n",
    "    # Example: RandomForestClassifier (rfc) defined elsewhere\n",
    "    # Example: Ensure rfc is properly initialized or imported\n",
    "\n",
    "    features = np.array([[N, P, k, temperature, humidity, ph, rainfall]])\n",
    "\n",
    "    transformed_features = ms.fit_transform(features)\n",
    "    transformed_features = sc.fit_transform(transformed_features)\n",
    "\n",
    "    # Assuming rfc is defined elsewhere and used for prediction\n",
    "    rfc = RandomForestClassifier()  # Initialize or import rfc as needed\n",
    "    rfc.fit(X_train, y_train)  # Example: Fit rfc with your data\n",
    "\n",
    "    prediction = rfc.predict(transformed_features).reshape(1, -1)\n",
    "\n",
    "    return prediction, ms, sc, rfc  # Return ms, sc, and rfc along with prediction\n",
    "\n",
    "# Example usage\n",
    "N = 10  # Example values for N, P, k, temperature, humidity, ph, and rainfall\n",
    "P = 20\n",
    "k = 30\n",
    "temperature = 25\n",
    "humidity = 60\n",
    "ph = 6.5\n",
    "rainfall = 100\n",
    "\n",
    "# Call the recommendation function\n",
    "predict, ms, sc, rfc = recommendation(N, P, k, temperature, humidity, ph, rainfall)\n",
    "\n",
    "# Example: Save rfc model\n",
    "with open('model.pkl', 'wb') as f:\n",
    "    pickle.dump(rfc, f)\n",
    "\n",
    "# Example: Save MinMaxScaler (ms)\n",
    "with open('minmaxscaler.pkl', 'wb') as f:\n",
    "    pickle.dump(ms, f)\n",
    "\n",
    "# Example: Save StandardScaler (sc)\n",
    "with open('standscaler.pkl', 'wb') as f:\n",
    "    pickle.dump(sc, f)"
   ]
  },
  {
   "cell_type": "code",
   "execution_count": null,
   "id": "8d5d7cce-581e-4a6b-b16a-d17bf4e06dba",
   "metadata": {},
   "outputs": [],
   "source": []
  },
  {
   "cell_type": "code",
   "execution_count": null,
   "id": "d23117af-08ec-46ff-80b2-d02d65718254",
   "metadata": {},
   "outputs": [],
   "source": []
  }
 ],
 "metadata": {
  "kernelspec": {
   "display_name": "Python 3 (ipykernel)",
   "language": "python",
   "name": "python3"
  },
  "language_info": {
   "codemirror_mode": {
    "name": "ipython",
    "version": 3
   },
   "file_extension": ".py",
   "mimetype": "text/x-python",
   "name": "python",
   "nbconvert_exporter": "python",
   "pygments_lexer": "ipython3",
   "version": "3.11.1"
  }
 },
 "nbformat": 4,
 "nbformat_minor": 5
}
